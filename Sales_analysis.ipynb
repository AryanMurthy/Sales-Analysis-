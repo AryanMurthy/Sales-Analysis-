{
 "cells": [
  {
   "cell_type": "markdown",
   "id": "precious-plate",
   "metadata": {},
   "source": [
    "# Objective of sales analysis:"
   ]
  },
  {
   "cell_type": "markdown",
   "id": "spoken-density",
   "metadata": {},
   "source": [
    "Upon initial inspection of data, we can start thinking of certain questions about it that we would want to answer\n",
    "- what is the overall sales trend?\n",
    "- what are the top 10 products by sales?\n",
    "- what are the most selling products\n",
    "- which is the most preferred ship mode\n",
    "- which are the most profitable category and sub-category?\n",
    "- Which country generated maximum sales?"
   ]
  },
  {
   "cell_type": "markdown",
   "id": "billion-stadium",
   "metadata": {},
   "source": [
    "<h4> IMPORTING REQUIRED LIBRARIES"
   ]
  },
  {
   "cell_type": "code",
   "execution_count": 1,
   "id": "funny-deadline",
   "metadata": {},
   "outputs": [],
   "source": [
    "# Pandas library forData manipulation \n",
    "import pandas as pd\n",
    "#Matplotlib and seaborn for Data visualization\n",
    "import matplotlib.pyplot as plt\n",
    "%matplotlib inline \n",
    "\n",
    "import seaborn as sns"
   ]
  },
  {
   "cell_type": "markdown",
   "id": "proud-hepatitis",
   "metadata": {},
   "source": [
    "<h4> IMPORTING THE DATASET"
   ]
  },
  {
   "cell_type": "code",
   "execution_count": 3,
   "id": "conservative-chile",
   "metadata": {},
   "outputs": [],
   "source": [
    "df = pd.read_excel('superstore_sales.xlsx') #importing the dataset in a dataframe(df)"
   ]
  },
  {
   "cell_type": "markdown",
   "id": "existing-hughes",
   "metadata": {},
   "source": [
    "<h4> DATA AUDITING"
   ]
  },
  {
   "cell_type": "code",
   "execution_count": 4,
   "id": "falling-wichita",
   "metadata": {},
   "outputs": [
    {
     "data": {
      "text/html": [
       "<div>\n",
       "<style scoped>\n",
       "    .dataframe tbody tr th:only-of-type {\n",
       "        vertical-align: middle;\n",
       "    }\n",
       "\n",
       "    .dataframe tbody tr th {\n",
       "        vertical-align: top;\n",
       "    }\n",
       "\n",
       "    .dataframe thead th {\n",
       "        text-align: right;\n",
       "    }\n",
       "</style>\n",
       "<table border=\"1\" class=\"dataframe\">\n",
       "  <thead>\n",
       "    <tr style=\"text-align: right;\">\n",
       "      <th></th>\n",
       "      <th>order_id</th>\n",
       "      <th>order_date</th>\n",
       "      <th>ship_date</th>\n",
       "      <th>ship_mode</th>\n",
       "      <th>customer_name</th>\n",
       "      <th>segment</th>\n",
       "      <th>state</th>\n",
       "      <th>country</th>\n",
       "      <th>market</th>\n",
       "      <th>region</th>\n",
       "      <th>...</th>\n",
       "      <th>category</th>\n",
       "      <th>sub_category</th>\n",
       "      <th>product_name</th>\n",
       "      <th>sales</th>\n",
       "      <th>quantity</th>\n",
       "      <th>discount</th>\n",
       "      <th>profit</th>\n",
       "      <th>shipping_cost</th>\n",
       "      <th>order_priority</th>\n",
       "      <th>year</th>\n",
       "    </tr>\n",
       "  </thead>\n",
       "  <tbody>\n",
       "    <tr>\n",
       "      <th>0</th>\n",
       "      <td>AG-2011-2040</td>\n",
       "      <td>2011-01-01</td>\n",
       "      <td>2011-01-06</td>\n",
       "      <td>Standard Class</td>\n",
       "      <td>Toby Braunhardt</td>\n",
       "      <td>Consumer</td>\n",
       "      <td>Constantine</td>\n",
       "      <td>Algeria</td>\n",
       "      <td>Africa</td>\n",
       "      <td>Africa</td>\n",
       "      <td>...</td>\n",
       "      <td>Office Supplies</td>\n",
       "      <td>Storage</td>\n",
       "      <td>Tenex Lockers, Blue</td>\n",
       "      <td>408.300</td>\n",
       "      <td>2</td>\n",
       "      <td>0.0</td>\n",
       "      <td>106.140</td>\n",
       "      <td>35.46</td>\n",
       "      <td>Medium</td>\n",
       "      <td>2011</td>\n",
       "    </tr>\n",
       "    <tr>\n",
       "      <th>1</th>\n",
       "      <td>IN-2011-47883</td>\n",
       "      <td>2011-01-01</td>\n",
       "      <td>2011-01-08</td>\n",
       "      <td>Standard Class</td>\n",
       "      <td>Joseph Holt</td>\n",
       "      <td>Consumer</td>\n",
       "      <td>New South Wales</td>\n",
       "      <td>Australia</td>\n",
       "      <td>APAC</td>\n",
       "      <td>Oceania</td>\n",
       "      <td>...</td>\n",
       "      <td>Office Supplies</td>\n",
       "      <td>Supplies</td>\n",
       "      <td>Acme Trimmer, High Speed</td>\n",
       "      <td>120.366</td>\n",
       "      <td>3</td>\n",
       "      <td>0.1</td>\n",
       "      <td>36.036</td>\n",
       "      <td>9.72</td>\n",
       "      <td>Medium</td>\n",
       "      <td>2011</td>\n",
       "    </tr>\n",
       "    <tr>\n",
       "      <th>2</th>\n",
       "      <td>HU-2011-1220</td>\n",
       "      <td>2011-01-01</td>\n",
       "      <td>2011-01-05</td>\n",
       "      <td>Second Class</td>\n",
       "      <td>Annie Thurman</td>\n",
       "      <td>Consumer</td>\n",
       "      <td>Budapest</td>\n",
       "      <td>Hungary</td>\n",
       "      <td>EMEA</td>\n",
       "      <td>EMEA</td>\n",
       "      <td>...</td>\n",
       "      <td>Office Supplies</td>\n",
       "      <td>Storage</td>\n",
       "      <td>Tenex Box, Single Width</td>\n",
       "      <td>66.120</td>\n",
       "      <td>4</td>\n",
       "      <td>0.0</td>\n",
       "      <td>29.640</td>\n",
       "      <td>8.17</td>\n",
       "      <td>High</td>\n",
       "      <td>2011</td>\n",
       "    </tr>\n",
       "    <tr>\n",
       "      <th>3</th>\n",
       "      <td>IT-2011-3647632</td>\n",
       "      <td>2011-01-01</td>\n",
       "      <td>2011-01-05</td>\n",
       "      <td>Second Class</td>\n",
       "      <td>Eugene Moren</td>\n",
       "      <td>Home Office</td>\n",
       "      <td>Stockholm</td>\n",
       "      <td>Sweden</td>\n",
       "      <td>EU</td>\n",
       "      <td>North</td>\n",
       "      <td>...</td>\n",
       "      <td>Office Supplies</td>\n",
       "      <td>Paper</td>\n",
       "      <td>Enermax Note Cards, Premium</td>\n",
       "      <td>44.865</td>\n",
       "      <td>3</td>\n",
       "      <td>0.5</td>\n",
       "      <td>-26.055</td>\n",
       "      <td>4.82</td>\n",
       "      <td>High</td>\n",
       "      <td>2011</td>\n",
       "    </tr>\n",
       "    <tr>\n",
       "      <th>4</th>\n",
       "      <td>IN-2011-47883</td>\n",
       "      <td>2011-01-01</td>\n",
       "      <td>2011-01-08</td>\n",
       "      <td>Standard Class</td>\n",
       "      <td>Joseph Holt</td>\n",
       "      <td>Consumer</td>\n",
       "      <td>New South Wales</td>\n",
       "      <td>Australia</td>\n",
       "      <td>APAC</td>\n",
       "      <td>Oceania</td>\n",
       "      <td>...</td>\n",
       "      <td>Furniture</td>\n",
       "      <td>Furnishings</td>\n",
       "      <td>Eldon Light Bulb, Duo Pack</td>\n",
       "      <td>113.670</td>\n",
       "      <td>5</td>\n",
       "      <td>0.1</td>\n",
       "      <td>37.770</td>\n",
       "      <td>4.70</td>\n",
       "      <td>Medium</td>\n",
       "      <td>2011</td>\n",
       "    </tr>\n",
       "  </tbody>\n",
       "</table>\n",
       "<p>5 rows × 21 columns</p>\n",
       "</div>"
      ],
      "text/plain": [
       "          order_id order_date  ship_date       ship_mode    customer_name  \\\n",
       "0     AG-2011-2040 2011-01-01 2011-01-06  Standard Class  Toby Braunhardt   \n",
       "1    IN-2011-47883 2011-01-01 2011-01-08  Standard Class      Joseph Holt   \n",
       "2     HU-2011-1220 2011-01-01 2011-01-05    Second Class    Annie Thurman   \n",
       "3  IT-2011-3647632 2011-01-01 2011-01-05    Second Class     Eugene Moren   \n",
       "4    IN-2011-47883 2011-01-01 2011-01-08  Standard Class      Joseph Holt   \n",
       "\n",
       "       segment            state    country  market   region  ...  \\\n",
       "0     Consumer      Constantine    Algeria  Africa   Africa  ...   \n",
       "1     Consumer  New South Wales  Australia    APAC  Oceania  ...   \n",
       "2     Consumer         Budapest    Hungary    EMEA     EMEA  ...   \n",
       "3  Home Office        Stockholm     Sweden      EU    North  ...   \n",
       "4     Consumer  New South Wales  Australia    APAC  Oceania  ...   \n",
       "\n",
       "          category sub_category                 product_name    sales  \\\n",
       "0  Office Supplies      Storage          Tenex Lockers, Blue  408.300   \n",
       "1  Office Supplies     Supplies     Acme Trimmer, High Speed  120.366   \n",
       "2  Office Supplies      Storage      Tenex Box, Single Width   66.120   \n",
       "3  Office Supplies        Paper  Enermax Note Cards, Premium   44.865   \n",
       "4        Furniture  Furnishings   Eldon Light Bulb, Duo Pack  113.670   \n",
       "\n",
       "   quantity  discount   profit  shipping_cost  order_priority  year  \n",
       "0         2       0.0  106.140          35.46          Medium  2011  \n",
       "1         3       0.1   36.036           9.72          Medium  2011  \n",
       "2         4       0.0   29.640           8.17            High  2011  \n",
       "3         3       0.5  -26.055           4.82            High  2011  \n",
       "4         5       0.1   37.770           4.70          Medium  2011  \n",
       "\n",
       "[5 rows x 21 columns]"
      ]
     },
     "execution_count": 4,
     "metadata": {},
     "output_type": "execute_result"
    }
   ],
   "source": [
    "# First five rows of the dataset\n",
    "df.head()"
   ]
  },
  {
   "cell_type": "code",
   "execution_count": 5,
   "id": "simple-ethics",
   "metadata": {},
   "outputs": [
    {
     "data": {
      "text/html": [
       "<div>\n",
       "<style scoped>\n",
       "    .dataframe tbody tr th:only-of-type {\n",
       "        vertical-align: middle;\n",
       "    }\n",
       "\n",
       "    .dataframe tbody tr th {\n",
       "        vertical-align: top;\n",
       "    }\n",
       "\n",
       "    .dataframe thead th {\n",
       "        text-align: right;\n",
       "    }\n",
       "</style>\n",
       "<table border=\"1\" class=\"dataframe\">\n",
       "  <thead>\n",
       "    <tr style=\"text-align: right;\">\n",
       "      <th></th>\n",
       "      <th>order_id</th>\n",
       "      <th>order_date</th>\n",
       "      <th>ship_date</th>\n",
       "      <th>ship_mode</th>\n",
       "      <th>customer_name</th>\n",
       "      <th>segment</th>\n",
       "      <th>state</th>\n",
       "      <th>country</th>\n",
       "      <th>market</th>\n",
       "      <th>region</th>\n",
       "      <th>...</th>\n",
       "      <th>category</th>\n",
       "      <th>sub_category</th>\n",
       "      <th>product_name</th>\n",
       "      <th>sales</th>\n",
       "      <th>quantity</th>\n",
       "      <th>discount</th>\n",
       "      <th>profit</th>\n",
       "      <th>shipping_cost</th>\n",
       "      <th>order_priority</th>\n",
       "      <th>year</th>\n",
       "    </tr>\n",
       "  </thead>\n",
       "  <tbody>\n",
       "    <tr>\n",
       "      <th>51285</th>\n",
       "      <td>CA-2014-115427</td>\n",
       "      <td>2014-12-31</td>\n",
       "      <td>2015-01-04</td>\n",
       "      <td>Standard Class</td>\n",
       "      <td>Erica Bern</td>\n",
       "      <td>Corporate</td>\n",
       "      <td>California</td>\n",
       "      <td>United States</td>\n",
       "      <td>US</td>\n",
       "      <td>West</td>\n",
       "      <td>...</td>\n",
       "      <td>Office Supplies</td>\n",
       "      <td>Binders</td>\n",
       "      <td>Cardinal Slant-D Ring Binder, Heavy Gauge Vinyl</td>\n",
       "      <td>13.904</td>\n",
       "      <td>2</td>\n",
       "      <td>0.2</td>\n",
       "      <td>4.5188</td>\n",
       "      <td>0.890</td>\n",
       "      <td>Medium</td>\n",
       "      <td>2014</td>\n",
       "    </tr>\n",
       "    <tr>\n",
       "      <th>51286</th>\n",
       "      <td>MO-2014-2560</td>\n",
       "      <td>2014-12-31</td>\n",
       "      <td>2015-01-05</td>\n",
       "      <td>Standard Class</td>\n",
       "      <td>Liz Preis</td>\n",
       "      <td>Consumer</td>\n",
       "      <td>Souss-Massa-Draâ</td>\n",
       "      <td>Morocco</td>\n",
       "      <td>Africa</td>\n",
       "      <td>Africa</td>\n",
       "      <td>...</td>\n",
       "      <td>Office Supplies</td>\n",
       "      <td>Binders</td>\n",
       "      <td>Wilson Jones Hole Reinforcements, Clear</td>\n",
       "      <td>3.990</td>\n",
       "      <td>1</td>\n",
       "      <td>0.0</td>\n",
       "      <td>0.4200</td>\n",
       "      <td>0.490</td>\n",
       "      <td>Medium</td>\n",
       "      <td>2014</td>\n",
       "    </tr>\n",
       "    <tr>\n",
       "      <th>51287</th>\n",
       "      <td>MX-2014-110527</td>\n",
       "      <td>2014-12-31</td>\n",
       "      <td>2015-01-02</td>\n",
       "      <td>Second Class</td>\n",
       "      <td>Charlotte Melton</td>\n",
       "      <td>Consumer</td>\n",
       "      <td>Managua</td>\n",
       "      <td>Nicaragua</td>\n",
       "      <td>LATAM</td>\n",
       "      <td>Central</td>\n",
       "      <td>...</td>\n",
       "      <td>Office Supplies</td>\n",
       "      <td>Labels</td>\n",
       "      <td>Hon Color Coded Labels, 5000 Label Set</td>\n",
       "      <td>26.400</td>\n",
       "      <td>3</td>\n",
       "      <td>0.0</td>\n",
       "      <td>12.3600</td>\n",
       "      <td>0.350</td>\n",
       "      <td>Medium</td>\n",
       "      <td>2014</td>\n",
       "    </tr>\n",
       "    <tr>\n",
       "      <th>51288</th>\n",
       "      <td>MX-2014-114783</td>\n",
       "      <td>2014-12-31</td>\n",
       "      <td>2015-01-06</td>\n",
       "      <td>Standard Class</td>\n",
       "      <td>Tamara Dahlen</td>\n",
       "      <td>Consumer</td>\n",
       "      <td>Chihuahua</td>\n",
       "      <td>Mexico</td>\n",
       "      <td>LATAM</td>\n",
       "      <td>North</td>\n",
       "      <td>...</td>\n",
       "      <td>Office Supplies</td>\n",
       "      <td>Labels</td>\n",
       "      <td>Hon Legal Exhibit Labels, Alphabetical</td>\n",
       "      <td>7.120</td>\n",
       "      <td>1</td>\n",
       "      <td>0.0</td>\n",
       "      <td>0.5600</td>\n",
       "      <td>0.199</td>\n",
       "      <td>Medium</td>\n",
       "      <td>2014</td>\n",
       "    </tr>\n",
       "    <tr>\n",
       "      <th>51289</th>\n",
       "      <td>CA-2014-156720</td>\n",
       "      <td>2014-12-31</td>\n",
       "      <td>2015-01-04</td>\n",
       "      <td>Standard Class</td>\n",
       "      <td>Jill Matthias</td>\n",
       "      <td>Consumer</td>\n",
       "      <td>Colorado</td>\n",
       "      <td>United States</td>\n",
       "      <td>US</td>\n",
       "      <td>West</td>\n",
       "      <td>...</td>\n",
       "      <td>Office Supplies</td>\n",
       "      <td>Fasteners</td>\n",
       "      <td>Bagged Rubber Bands</td>\n",
       "      <td>3.024</td>\n",
       "      <td>3</td>\n",
       "      <td>0.2</td>\n",
       "      <td>-0.6048</td>\n",
       "      <td>0.170</td>\n",
       "      <td>Medium</td>\n",
       "      <td>2014</td>\n",
       "    </tr>\n",
       "  </tbody>\n",
       "</table>\n",
       "<p>5 rows × 21 columns</p>\n",
       "</div>"
      ],
      "text/plain": [
       "             order_id order_date  ship_date       ship_mode     customer_name  \\\n",
       "51285  CA-2014-115427 2014-12-31 2015-01-04  Standard Class        Erica Bern   \n",
       "51286    MO-2014-2560 2014-12-31 2015-01-05  Standard Class         Liz Preis   \n",
       "51287  MX-2014-110527 2014-12-31 2015-01-02    Second Class  Charlotte Melton   \n",
       "51288  MX-2014-114783 2014-12-31 2015-01-06  Standard Class     Tamara Dahlen   \n",
       "51289  CA-2014-156720 2014-12-31 2015-01-04  Standard Class     Jill Matthias   \n",
       "\n",
       "         segment             state        country  market   region  ...  \\\n",
       "51285  Corporate        California  United States      US     West  ...   \n",
       "51286   Consumer  Souss-Massa-Draâ        Morocco  Africa   Africa  ...   \n",
       "51287   Consumer           Managua      Nicaragua   LATAM  Central  ...   \n",
       "51288   Consumer         Chihuahua         Mexico   LATAM    North  ...   \n",
       "51289   Consumer          Colorado  United States      US     West  ...   \n",
       "\n",
       "              category sub_category  \\\n",
       "51285  Office Supplies      Binders   \n",
       "51286  Office Supplies      Binders   \n",
       "51287  Office Supplies       Labels   \n",
       "51288  Office Supplies       Labels   \n",
       "51289  Office Supplies    Fasteners   \n",
       "\n",
       "                                          product_name   sales  quantity  \\\n",
       "51285  Cardinal Slant-D Ring Binder, Heavy Gauge Vinyl  13.904         2   \n",
       "51286          Wilson Jones Hole Reinforcements, Clear   3.990         1   \n",
       "51287           Hon Color Coded Labels, 5000 Label Set  26.400         3   \n",
       "51288           Hon Legal Exhibit Labels, Alphabetical   7.120         1   \n",
       "51289                              Bagged Rubber Bands   3.024         3   \n",
       "\n",
       "       discount   profit  shipping_cost  order_priority  year  \n",
       "51285       0.2   4.5188          0.890          Medium  2014  \n",
       "51286       0.0   0.4200          0.490          Medium  2014  \n",
       "51287       0.0  12.3600          0.350          Medium  2014  \n",
       "51288       0.0   0.5600          0.199          Medium  2014  \n",
       "51289       0.2  -0.6048          0.170          Medium  2014  \n",
       "\n",
       "[5 rows x 21 columns]"
      ]
     },
     "execution_count": 5,
     "metadata": {},
     "output_type": "execute_result"
    }
   ],
   "source": [
    "# Last five rows of the dataset\n",
    "df.tail()"
   ]
  },
  {
   "cell_type": "code",
   "execution_count": 6,
   "id": "robust-calvin",
   "metadata": {},
   "outputs": [
    {
     "data": {
      "text/plain": [
       "(51290, 21)"
      ]
     },
     "execution_count": 6,
     "metadata": {},
     "output_type": "execute_result"
    }
   ],
   "source": [
    "# Shape of the dataset for calculating total number of rows and columns in a dataset\n",
    "df.shape"
   ]
  },
  {
   "cell_type": "code",
   "execution_count": 7,
   "id": "stretch-directive",
   "metadata": {},
   "outputs": [
    {
     "data": {
      "text/plain": [
       "Index(['order_id', 'order_date', 'ship_date', 'ship_mode', 'customer_name',\n",
       "       'segment', 'state', 'country', 'market', 'region', 'product_id',\n",
       "       'category', 'sub_category', 'product_name', 'sales', 'quantity',\n",
       "       'discount', 'profit', 'shipping_cost', 'order_priority', 'year'],\n",
       "      dtype='object')"
      ]
     },
     "execution_count": 7,
     "metadata": {},
     "output_type": "execute_result"
    }
   ],
   "source": [
    "# columns present in the dataset\n",
    "df.columns"
   ]
  },
  {
   "cell_type": "code",
   "execution_count": 9,
   "id": "ambient-productivity",
   "metadata": {},
   "outputs": [
    {
     "name": "stdout",
     "output_type": "stream",
     "text": [
      "<class 'pandas.core.frame.DataFrame'>\n",
      "RangeIndex: 51290 entries, 0 to 51289\n",
      "Data columns (total 21 columns):\n",
      " #   Column          Non-Null Count  Dtype         \n",
      "---  ------          --------------  -----         \n",
      " 0   order_id        51290 non-null  object        \n",
      " 1   order_date      51290 non-null  datetime64[ns]\n",
      " 2   ship_date       51290 non-null  datetime64[ns]\n",
      " 3   ship_mode       51290 non-null  object        \n",
      " 4   customer_name   51290 non-null  object        \n",
      " 5   segment         51290 non-null  object        \n",
      " 6   state           51290 non-null  object        \n",
      " 7   country         51290 non-null  object        \n",
      " 8   market          51290 non-null  object        \n",
      " 9   region          51290 non-null  object        \n",
      " 10  product_id      51290 non-null  object        \n",
      " 11  category        51290 non-null  object        \n",
      " 12  sub_category    51290 non-null  object        \n",
      " 13  product_name    51290 non-null  object        \n",
      " 14  sales           51290 non-null  float64       \n",
      " 15  quantity        51290 non-null  int64         \n",
      " 16  discount        51290 non-null  float64       \n",
      " 17  profit          51290 non-null  float64       \n",
      " 18  shipping_cost   51290 non-null  float64       \n",
      " 19  order_priority  51290 non-null  object        \n",
      " 20  year            51290 non-null  int64         \n",
      "dtypes: datetime64[ns](2), float64(4), int64(2), object(13)\n",
      "memory usage: 8.2+ MB\n"
     ]
    }
   ],
   "source": [
    "# A concise summary of the dataset\n",
    "df.info() #this line will give us a small summary regarding the datatypes, no. of elements, no. of entries, etc."
   ]
  },
  {
   "cell_type": "code",
   "execution_count": 11,
   "id": "guided-statement",
   "metadata": {},
   "outputs": [
    {
     "data": {
      "text/plain": [
       "order_id          0\n",
       "order_date        0\n",
       "ship_date         0\n",
       "ship_mode         0\n",
       "customer_name     0\n",
       "segment           0\n",
       "state             0\n",
       "country           0\n",
       "market            0\n",
       "region            0\n",
       "product_id        0\n",
       "category          0\n",
       "sub_category      0\n",
       "product_name      0\n",
       "sales             0\n",
       "quantity          0\n",
       "discount          0\n",
       "profit            0\n",
       "shipping_cost     0\n",
       "order_priority    0\n",
       "year              0\n",
       "dtype: int64"
      ]
     },
     "execution_count": 11,
     "metadata": {},
     "output_type": "execute_result"
    }
   ],
   "source": [
    "# Checking missing values\n",
    "df.isnull().sum() #isnull function will show if any missing values are present in the dataset"
   ]
  },
  {
   "cell_type": "code",
   "execution_count": 12,
   "id": "bottom-landing",
   "metadata": {},
   "outputs": [
    {
     "data": {
      "text/html": [
       "<div>\n",
       "<style scoped>\n",
       "    .dataframe tbody tr th:only-of-type {\n",
       "        vertical-align: middle;\n",
       "    }\n",
       "\n",
       "    .dataframe tbody tr th {\n",
       "        vertical-align: top;\n",
       "    }\n",
       "\n",
       "    .dataframe thead th {\n",
       "        text-align: right;\n",
       "    }\n",
       "</style>\n",
       "<table border=\"1\" class=\"dataframe\">\n",
       "  <thead>\n",
       "    <tr style=\"text-align: right;\">\n",
       "      <th></th>\n",
       "      <th>sales</th>\n",
       "      <th>quantity</th>\n",
       "      <th>discount</th>\n",
       "      <th>profit</th>\n",
       "      <th>shipping_cost</th>\n",
       "      <th>year</th>\n",
       "    </tr>\n",
       "  </thead>\n",
       "  <tbody>\n",
       "    <tr>\n",
       "      <th>count</th>\n",
       "      <td>51290.000000</td>\n",
       "      <td>51290.000000</td>\n",
       "      <td>51290.000000</td>\n",
       "      <td>51290.000000</td>\n",
       "      <td>51290.000000</td>\n",
       "      <td>51290.000000</td>\n",
       "    </tr>\n",
       "    <tr>\n",
       "      <th>mean</th>\n",
       "      <td>246.490581</td>\n",
       "      <td>3.476545</td>\n",
       "      <td>0.142908</td>\n",
       "      <td>28.641740</td>\n",
       "      <td>26.375818</td>\n",
       "      <td>2012.777208</td>\n",
       "    </tr>\n",
       "    <tr>\n",
       "      <th>std</th>\n",
       "      <td>487.565361</td>\n",
       "      <td>2.278766</td>\n",
       "      <td>0.212280</td>\n",
       "      <td>174.424113</td>\n",
       "      <td>57.296810</td>\n",
       "      <td>1.098931</td>\n",
       "    </tr>\n",
       "    <tr>\n",
       "      <th>min</th>\n",
       "      <td>0.444000</td>\n",
       "      <td>1.000000</td>\n",
       "      <td>0.000000</td>\n",
       "      <td>-6599.978000</td>\n",
       "      <td>0.002000</td>\n",
       "      <td>2011.000000</td>\n",
       "    </tr>\n",
       "    <tr>\n",
       "      <th>25%</th>\n",
       "      <td>30.758625</td>\n",
       "      <td>2.000000</td>\n",
       "      <td>0.000000</td>\n",
       "      <td>0.000000</td>\n",
       "      <td>2.610000</td>\n",
       "      <td>2012.000000</td>\n",
       "    </tr>\n",
       "    <tr>\n",
       "      <th>50%</th>\n",
       "      <td>85.053000</td>\n",
       "      <td>3.000000</td>\n",
       "      <td>0.000000</td>\n",
       "      <td>9.240000</td>\n",
       "      <td>7.790000</td>\n",
       "      <td>2013.000000</td>\n",
       "    </tr>\n",
       "    <tr>\n",
       "      <th>75%</th>\n",
       "      <td>251.053200</td>\n",
       "      <td>5.000000</td>\n",
       "      <td>0.200000</td>\n",
       "      <td>36.810000</td>\n",
       "      <td>24.450000</td>\n",
       "      <td>2014.000000</td>\n",
       "    </tr>\n",
       "    <tr>\n",
       "      <th>max</th>\n",
       "      <td>22638.480000</td>\n",
       "      <td>14.000000</td>\n",
       "      <td>0.850000</td>\n",
       "      <td>8399.976000</td>\n",
       "      <td>933.570000</td>\n",
       "      <td>2014.000000</td>\n",
       "    </tr>\n",
       "  </tbody>\n",
       "</table>\n",
       "</div>"
      ],
      "text/plain": [
       "              sales      quantity      discount        profit  shipping_cost  \\\n",
       "count  51290.000000  51290.000000  51290.000000  51290.000000   51290.000000   \n",
       "mean     246.490581      3.476545      0.142908     28.641740      26.375818   \n",
       "std      487.565361      2.278766      0.212280    174.424113      57.296810   \n",
       "min        0.444000      1.000000      0.000000  -6599.978000       0.002000   \n",
       "25%       30.758625      2.000000      0.000000      0.000000       2.610000   \n",
       "50%       85.053000      3.000000      0.000000      9.240000       7.790000   \n",
       "75%      251.053200      5.000000      0.200000     36.810000      24.450000   \n",
       "max    22638.480000     14.000000      0.850000   8399.976000     933.570000   \n",
       "\n",
       "               year  \n",
       "count  51290.000000  \n",
       "mean    2012.777208  \n",
       "std        1.098931  \n",
       "min     2011.000000  \n",
       "25%     2012.000000  \n",
       "50%     2013.000000  \n",
       "75%     2014.000000  \n",
       "max     2014.000000  "
      ]
     },
     "execution_count": 12,
     "metadata": {},
     "output_type": "execute_result"
    }
   ],
   "source": [
    "# Getting descriptive statistic summary \n",
    "df.describe()"
   ]
  },
  {
   "cell_type": "markdown",
   "id": "threaded-feeding",
   "metadata": {},
   "source": [
    "<h4> EXPLORATORY DATA ANALYSIS"
   ]
  },
  {
   "cell_type": "markdown",
   "id": "remarkable-wrestling",
   "metadata": {},
   "source": [
    "<h4> What is the overall sales trend?"
   ]
  },
  {
   "cell_type": "code",
   "execution_count": 13,
   "id": "choice-macedonia",
   "metadata": {},
   "outputs": [
    {
     "data": {
      "text/plain": [
       "Timestamp('2011-01-01 00:00:00')"
      ]
     },
     "execution_count": 13,
     "metadata": {},
     "output_type": "execute_result"
    }
   ],
   "source": [
    "df['order_date'].min() #minimum date of the ordered item"
   ]
  },
  {
   "cell_type": "code",
   "execution_count": 14,
   "id": "smooth-salvation",
   "metadata": {},
   "outputs": [
    {
     "data": {
      "text/plain": [
       "Timestamp('2014-12-31 00:00:00')"
      ]
     },
     "execution_count": 14,
     "metadata": {},
     "output_type": "execute_result"
    }
   ],
   "source": [
    "df['order_date'].max() #maximum date of the ordered item"
   ]
  },
  {
   "cell_type": "code",
   "execution_count": 15,
   "id": "intellectual-diploma",
   "metadata": {},
   "outputs": [],
   "source": [
    "#fetching month year column from the dataset\n",
    "df['month_year'] = df['order_date'].apply(lambda x: x.strftime('%Y-%m'))"
   ]
  },
  {
   "cell_type": "code",
   "execution_count": 25,
   "id": "neural-newspaper",
   "metadata": {},
   "outputs": [],
   "source": [
    "#df['month_year']\n",
    "#Grouping month year\n",
    "#getting the values of only sales column\n",
    "df_trend = df.groupby('month_year').sum()['sales'].reset_index() #resetting the index to get the data in dataframe format"
   ]
  },
  {
   "cell_type": "code",
   "execution_count": 27,
   "id": "handy-knife",
   "metadata": {},
   "outputs": [
    {
     "data": {
      "image/png": "[encoded data removed]",
      "text/plain": [
       "<Figure size 1080x432 with 1 Axes>"
      ]
     },
     "metadata": {
      "needs_background": "light"
     },
     "output_type": "display_data"
    }
   ],
   "source": [
    "#setting the figure size\n",
    "plt.figure(figsize=(15,6)) #15 by 6\n",
    "plt.plot(df_trend['month_year'], df_trend['sales'], color= '#b80045')#x-axis, y-axis, color\n",
    "plt.xticks(rotation = 'vertical', size = 8) #tilting by 90 degress\n",
    "plt.show() #displaying only the graph"
   ]
  },
  {
   "cell_type": "markdown",
   "id": "rocky-synthetic",
   "metadata": {},
   "source": [
    "<h4> Which are the top 10 products by sales?"
   ]
  },
  {
   "cell_type": "code",
   "execution_count": 35,
   "id": "engaging-credit",
   "metadata": {},
   "outputs": [],
   "source": [
    "# Grouping product name column\n",
    "#df['product_name']\n",
    "product_sales = pd.DataFrame(df.groupby('product_name').sum()['sales'])"
   ]
  },
  {
   "cell_type": "code",
   "execution_count": 51,
   "id": "christian-anatomy",
   "metadata": {},
   "outputs": [],
   "source": [
    "# Sorting prod_sales column\n",
    "prod_sales = product_sales.sort_values('sales', ascending=False)"
   ]
  },
  {
   "cell_type": "code",
   "execution_count": 52,
   "id": "sharp-impression",
   "metadata": {},
   "outputs": [
    {
     "data": {
      "text/html": [
       "<div>\n",
       "<style scoped>\n",
       "    .dataframe tbody tr th:only-of-type {\n",
       "        vertical-align: middle;\n",
       "    }\n",
       "\n",
       "    .dataframe tbody tr th {\n",
       "        vertical-align: top;\n",
       "    }\n",
       "\n",
       "    .dataframe thead th {\n",
       "        text-align: right;\n",
       "    }\n",
       "</style>\n",
       "<table border=\"1\" class=\"dataframe\">\n",
       "  <thead>\n",
       "    <tr style=\"text-align: right;\">\n",
       "      <th></th>\n",
       "      <th>sales</th>\n",
       "    </tr>\n",
       "    <tr>\n",
       "      <th>product_name</th>\n",
       "      <th></th>\n",
       "    </tr>\n",
       "  </thead>\n",
       "  <tbody>\n",
       "    <tr>\n",
       "      <th>Apple Smart Phone, Full Size</th>\n",
       "      <td>86935.7786</td>\n",
       "    </tr>\n",
       "    <tr>\n",
       "      <th>Cisco Smart Phone, Full Size</th>\n",
       "      <td>76441.5306</td>\n",
       "    </tr>\n",
       "    <tr>\n",
       "      <th>Motorola Smart Phone, Full Size</th>\n",
       "      <td>73156.3030</td>\n",
       "    </tr>\n",
       "    <tr>\n",
       "      <th>Nokia Smart Phone, Full Size</th>\n",
       "      <td>71904.5555</td>\n",
       "    </tr>\n",
       "    <tr>\n",
       "      <th>Canon imageCLASS 2200 Advanced Copier</th>\n",
       "      <td>61599.8240</td>\n",
       "    </tr>\n",
       "    <tr>\n",
       "      <th>Hon Executive Leather Armchair, Adjustable</th>\n",
       "      <td>58193.4841</td>\n",
       "    </tr>\n",
       "    <tr>\n",
       "      <th>Office Star Executive Leather Armchair, Adjustable</th>\n",
       "      <td>50661.6840</td>\n",
       "    </tr>\n",
       "    <tr>\n",
       "      <th>Harbour Creations Executive Leather Armchair, Adjustable</th>\n",
       "      <td>50121.5160</td>\n",
       "    </tr>\n",
       "    <tr>\n",
       "      <th>Samsung Smart Phone, Cordless</th>\n",
       "      <td>48653.4600</td>\n",
       "    </tr>\n",
       "    <tr>\n",
       "      <th>Nokia Smart Phone, with Caller ID</th>\n",
       "      <td>47877.7857</td>\n",
       "    </tr>\n",
       "  </tbody>\n",
       "</table>\n",
       "</div>"
      ],
      "text/plain": [
       "                                                         sales\n",
       "product_name                                                  \n",
       "Apple Smart Phone, Full Size                        86935.7786\n",
       "Cisco Smart Phone, Full Size                        76441.5306\n",
       "Motorola Smart Phone, Full Size                     73156.3030\n",
       "Nokia Smart Phone, Full Size                        71904.5555\n",
       "Canon imageCLASS 2200 Advanced Copier               61599.8240\n",
       "Hon Executive Leather Armchair, Adjustable          58193.4841\n",
       "Office Star Executive Leather Armchair, Adjustable  50661.6840\n",
       "Harbour Creations Executive Leather Armchair, A...  50121.5160\n",
       "Samsung Smart Phone, Cordless                       48653.4600\n",
       "Nokia Smart Phone, with Caller ID                   47877.7857"
      ]
     },
     "execution_count": 52,
     "metadata": {},
     "output_type": "execute_result"
    }
   ],
   "source": [
    "#Top 10 products by sales \n",
    "prod_sales[:10]"
   ]
  },
  {
   "cell_type": "markdown",
   "id": "moral-narrow",
   "metadata": {},
   "source": [
    "<h4> Which are the most selling products?"
   ]
  },
  {
   "cell_type": "code",
   "execution_count": 42,
   "id": "ceramic-theology",
   "metadata": {},
   "outputs": [],
   "source": [
    "#Grouping product name\n",
    "most_selling_product = pd.DataFrame(df.groupby('product_name').sum() ['quantity'])"
   ]
  },
  {
   "cell_type": "code",
   "execution_count": 56,
   "id": "technological-referral",
   "metadata": {},
   "outputs": [],
   "source": [
    "# sorting most_selling_products\n",
    "most_selling_product = most_selling_product.sort_values('quantity',ascending=False)"
   ]
  },
  {
   "cell_type": "code",
   "execution_count": 57,
   "id": "applied-baker",
   "metadata": {},
   "outputs": [
    {
     "data": {
      "text/html": [
       "<div>\n",
       "<style scoped>\n",
       "    .dataframe tbody tr th:only-of-type {\n",
       "        vertical-align: middle;\n",
       "    }\n",
       "\n",
       "    .dataframe tbody tr th {\n",
       "        vertical-align: top;\n",
       "    }\n",
       "\n",
       "    .dataframe thead th {\n",
       "        text-align: right;\n",
       "    }\n",
       "</style>\n",
       "<table border=\"1\" class=\"dataframe\">\n",
       "  <thead>\n",
       "    <tr style=\"text-align: right;\">\n",
       "      <th></th>\n",
       "      <th>quantity</th>\n",
       "    </tr>\n",
       "    <tr>\n",
       "      <th>product_name</th>\n",
       "      <th></th>\n",
       "    </tr>\n",
       "  </thead>\n",
       "  <tbody>\n",
       "    <tr>\n",
       "      <th>Staples</th>\n",
       "      <td>876</td>\n",
       "    </tr>\n",
       "    <tr>\n",
       "      <th>Cardinal Index Tab, Clear</th>\n",
       "      <td>337</td>\n",
       "    </tr>\n",
       "    <tr>\n",
       "      <th>Eldon File Cart, Single Width</th>\n",
       "      <td>321</td>\n",
       "    </tr>\n",
       "    <tr>\n",
       "      <th>Rogers File Cart, Single Width</th>\n",
       "      <td>262</td>\n",
       "    </tr>\n",
       "    <tr>\n",
       "      <th>Sanford Pencil Sharpener, Water Color</th>\n",
       "      <td>259</td>\n",
       "    </tr>\n",
       "    <tr>\n",
       "      <th>Stockwell Paper Clips, Assorted Sizes</th>\n",
       "      <td>253</td>\n",
       "    </tr>\n",
       "    <tr>\n",
       "      <th>Avery Index Tab, Clear</th>\n",
       "      <td>252</td>\n",
       "    </tr>\n",
       "    <tr>\n",
       "      <th>Ibico Index Tab, Clear</th>\n",
       "      <td>251</td>\n",
       "    </tr>\n",
       "    <tr>\n",
       "      <th>Smead File Cart, Single Width</th>\n",
       "      <td>250</td>\n",
       "    </tr>\n",
       "    <tr>\n",
       "      <th>Stanley Pencil Sharpener, Water Color</th>\n",
       "      <td>242</td>\n",
       "    </tr>\n",
       "  </tbody>\n",
       "</table>\n",
       "</div>"
      ],
      "text/plain": [
       "                                       quantity\n",
       "product_name                                   \n",
       "Staples                                     876\n",
       "Cardinal Index Tab, Clear                   337\n",
       "Eldon File Cart, Single Width               321\n",
       "Rogers File Cart, Single Width              262\n",
       "Sanford Pencil Sharpener, Water Color       259\n",
       "Stockwell Paper Clips, Assorted Sizes       253\n",
       "Avery Index Tab, Clear                      252\n",
       "Ibico Index Tab, Clear                      251\n",
       "Smead File Cart, Single Width               250\n",
       "Stanley Pencil Sharpener, Water Color       242"
      ]
     },
     "execution_count": 57,
     "metadata": {},
     "output_type": "execute_result"
    }
   ],
   "source": [
    "most_selling_product[:10]"
   ]
  },
  {
   "cell_type": "markdown",
   "id": "wicked-swimming",
   "metadata": {},
   "source": [
    "<h4> Which is the most preferred ship mode?"
   ]
  },
  {
   "cell_type": "code",
   "execution_count": 60,
   "id": "amateur-subcommittee",
   "metadata": {},
   "outputs": [
    {
     "name": "stderr",
     "output_type": "stream",
     "text": [
      "c:\\users\\aryan\\appdata\\local\\programs\\python\\python39\\lib\\site-packages\\seaborn\\_decorators.py:36: FutureWarning: Pass the following variable as a keyword arg: x. From version 0.12, the only valid positional argument will be `data`, and passing other arguments without an explicit keyword will result in an error or misinterpretation.\n",
      "  warnings.warn(\n"
     ]
    },
    {
     "data": {
      "image/png": "[encoded data removed]",
      "text/plain": [
       "<Figure size 720x612 with 1 Axes>"
      ]
     },
     "metadata": {
      "needs_background": "light"
     },
     "output_type": "display_data"
    }
   ],
   "source": [
    "#setting figure size\n",
    "plt.figure(figsize=(10,8.5))\n",
    "#plotting shipmode\n",
    "sns.countplot(df['ship_mode'])\n",
    "plt.show()"
   ]
  },
  {
   "cell_type": "markdown",
   "id": "closing-cosmetic",
   "metadata": {},
   "source": [
    "<h4> Which are the most profitable category and sub-category?"
   ]
  },
  {
   "cell_type": "code",
   "execution_count": 66,
   "id": "partial-empire",
   "metadata": {},
   "outputs": [],
   "source": [
    "#Grouping category and sub-category\n",
    "cat_subcat_profit = pd.DataFrame(df.groupby(['category', 'sub_category']).sum()['profit'])"
   ]
  },
  {
   "cell_type": "code",
   "execution_count": 68,
   "id": "vital-hurricane",
   "metadata": {},
   "outputs": [
    {
     "data": {
      "text/html": [
       "<div>\n",
       "<style scoped>\n",
       "    .dataframe tbody tr th:only-of-type {\n",
       "        vertical-align: middle;\n",
       "    }\n",
       "\n",
       "    .dataframe tbody tr th {\n",
       "        vertical-align: top;\n",
       "    }\n",
       "\n",
       "    .dataframe thead th {\n",
       "        text-align: right;\n",
       "    }\n",
       "</style>\n",
       "<table border=\"1\" class=\"dataframe\">\n",
       "  <thead>\n",
       "    <tr style=\"text-align: right;\">\n",
       "      <th></th>\n",
       "      <th></th>\n",
       "      <th>profit</th>\n",
       "    </tr>\n",
       "    <tr>\n",
       "      <th>category</th>\n",
       "      <th>sub_category</th>\n",
       "      <th></th>\n",
       "    </tr>\n",
       "  </thead>\n",
       "  <tbody>\n",
       "    <tr>\n",
       "      <th rowspan=\"4\" valign=\"top\">Technology</th>\n",
       "      <th>Phones</th>\n",
       "      <td>216717.00580</td>\n",
       "    </tr>\n",
       "    <tr>\n",
       "      <th>Machines</th>\n",
       "      <td>58867.87300</td>\n",
       "    </tr>\n",
       "    <tr>\n",
       "      <th>Copiers</th>\n",
       "      <td>258567.54818</td>\n",
       "    </tr>\n",
       "    <tr>\n",
       "      <th>Accessories</th>\n",
       "      <td>129626.30620</td>\n",
       "    </tr>\n",
       "    <tr>\n",
       "      <th rowspan=\"9\" valign=\"top\">Office Supplies</th>\n",
       "      <th>Supplies</th>\n",
       "      <td>22583.26310</td>\n",
       "    </tr>\n",
       "    <tr>\n",
       "      <th>Storage</th>\n",
       "      <td>108461.48980</td>\n",
       "    </tr>\n",
       "    <tr>\n",
       "      <th>Paper</th>\n",
       "      <td>59207.68270</td>\n",
       "    </tr>\n",
       "    <tr>\n",
       "      <th>Labels</th>\n",
       "      <td>15010.51200</td>\n",
       "    </tr>\n",
       "    <tr>\n",
       "      <th>Fasteners</th>\n",
       "      <td>11525.42410</td>\n",
       "    </tr>\n",
       "    <tr>\n",
       "      <th>Envelopes</th>\n",
       "      <td>29601.11630</td>\n",
       "    </tr>\n",
       "    <tr>\n",
       "      <th>Binders</th>\n",
       "      <td>72449.84600</td>\n",
       "    </tr>\n",
       "    <tr>\n",
       "      <th>Art</th>\n",
       "      <td>57953.91090</td>\n",
       "    </tr>\n",
       "    <tr>\n",
       "      <th>Appliances</th>\n",
       "      <td>141680.58940</td>\n",
       "    </tr>\n",
       "    <tr>\n",
       "      <th rowspan=\"4\" valign=\"top\">Furniture</th>\n",
       "      <th>Tables</th>\n",
       "      <td>-64083.38870</td>\n",
       "    </tr>\n",
       "    <tr>\n",
       "      <th>Furnishings</th>\n",
       "      <td>46967.42550</td>\n",
       "    </tr>\n",
       "    <tr>\n",
       "      <th>Chairs</th>\n",
       "      <td>141973.79750</td>\n",
       "    </tr>\n",
       "    <tr>\n",
       "      <th>Bookcases</th>\n",
       "      <td>161924.41950</td>\n",
       "    </tr>\n",
       "  </tbody>\n",
       "</table>\n",
       "</div>"
      ],
      "text/plain": [
       "                                    profit\n",
       "category        sub_category              \n",
       "Technology      Phones        216717.00580\n",
       "                Machines       58867.87300\n",
       "                Copiers       258567.54818\n",
       "                Accessories   129626.30620\n",
       "Office Supplies Supplies       22583.26310\n",
       "                Storage       108461.48980\n",
       "                Paper          59207.68270\n",
       "                Labels         15010.51200\n",
       "                Fasteners      11525.42410\n",
       "                Envelopes      29601.11630\n",
       "                Binders        72449.84600\n",
       "                Art            57953.91090\n",
       "                Appliances    141680.58940\n",
       "Furniture       Tables        -64083.38870\n",
       "                Furnishings    46967.42550\n",
       "                Chairs        141973.79750\n",
       "                Bookcases     161924.41950"
      ]
     },
     "execution_count": 68,
     "metadata": {},
     "output_type": "execute_result"
    }
   ],
   "source": [
    "#Sorting the result\n",
    "cat_subcat_profit.sort_values(['category','sub_category'],ascending=False)"
   ]
  },
  {
   "cell_type": "markdown",
   "id": "prompt-mercury",
   "metadata": {},
   "source": [
    "<h4> Which country generated maximum sales?"
   ]
  },
  {
   "cell_type": "code",
   "execution_count": 83,
   "id": "single-reflection",
   "metadata": {},
   "outputs": [
    {
     "name": "stderr",
     "output_type": "stream",
     "text": [
      "c:\\users\\aryan\\appdata\\local\\programs\\python\\python39\\lib\\site-packages\\seaborn\\_decorators.py:36: FutureWarning: Pass the following variable as a keyword arg: x. From version 0.12, the only valid positional argument will be `data`, and passing other arguments without an explicit keyword will result in an error or misinterpretation.\n",
      "  warnings.warn(\n"
     ]
    },
    {
     "data": {
      "image/png": "[encoded data removed]",
      "text/plain": [
       "<Figure size 2520x720 with 1 Axes>"
      ]
     },
     "metadata": {
      "needs_background": "light"
     },
     "output_type": "display_data"
    }
   ],
   "source": [
    "#setting figure size\n",
    "plt.figure(figsize=(35,10))\n",
    "plt.xticks(rotation = 'vertical', size = 8)\n",
    "#plotting shipmode\n",
    "sns.countplot(df['country'])\n",
    "plt.show()"
   ]
  }
 ],
 "metadata": {
  "kernelspec": {
   "display_name": "Python 3",
   "language": "python",
   "name": "python3"
  },
  "language_info": {
   "codemirror_mode": {
    "name": "ipython",
    "version": 3
   },
   "file_extension": ".py",
   "mimetype": "text/x-python",
   "name": "python",
   "nbconvert_exporter": "python",
   "pygments_lexer": "ipython3",
   "version": "3.9.1"
  }
 },
 "nbformat": 4,
 "nbformat_minor": 5
}
